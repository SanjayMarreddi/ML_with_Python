{
  "nbformat": 4,
  "nbformat_minor": 0,
  "metadata": {
    "kernelspec": {
      "display_name": "Python",
      "language": "python",
      "name": "conda-env-python-py"
    },
    "language_info": {
      "codemirror_mode": {
        "name": "ipython",
        "version": 3
      },
      "file_extension": ".py",
      "mimetype": "text/x-python",
      "name": "python",
      "nbconvert_exporter": "python",
      "pygments_lexer": "ipython3",
      "version": "3.6.7"
    },
    "colab": {
      "name": "DBSCAN_Clustering_Weather.ipynb",
      "provenance": [],
      "collapsed_sections": [
        "diWLd1vXoi7O"
      ]
    }
  },
  "cells": [
    {
      "cell_type": "markdown",
      "metadata": {
        "id": "Xr5STntJoi6f",
        "colab_type": "text"
      },
      "source": [
        "<a href=\"https://www.bigdatauniversity.com\"><img src = \"https://ibm.box.com/shared/static/cw2c7r3o20w9zn8gkecaeyjhgw3xdgbj.png\" width = 400, align = \"center\"></a>\n",
        "# <center>Density-Based Clustering</center>"
      ]
    },
    {
      "cell_type": "markdown",
      "metadata": {
        "id": "Gf8S2bDgoi6h",
        "colab_type": "text"
      },
      "source": [
        "Most of the traditional clustering techniques, such as k-means, hierarchical and fuzzy clustering, can be used to group data without supervision. \n",
        "\n",
        "However, when applied to tasks with arbitrary shape clusters, or clusters within cluster, the traditional techniques might be unable to achieve good results. That is, elements in the same cluster might not share enough similarity or the performance may be poor.\n",
        "Additionally, Density-based Clustering locates regions of high density that are separated from one another by regions of low density. Density, in this context, is defined as the number of points within a specified radius.\n",
        "\n",
        "\n",
        "\n",
        "In this section, the main focus will be manipulating the data and properties of DBSCAN and observing the resulting clustering."
      ]
    },
    {
      "cell_type": "markdown",
      "metadata": {
        "id": "-fE57fbeoi6i",
        "colab_type": "text"
      },
      "source": [
        "Import the following libraries:\n",
        "<ul>\n",
        "    <li> <b>numpy as np</b> </li>\n",
        "    <li> <b>DBSCAN</b> from <b>sklearn.cluster</b> </li>\n",
        "    <li> <b>make_blobs</b> from <b>sklearn.datasets.samples_generator</b> </li>\n",
        "    <li> <b>StandardScaler</b> from <b>sklearn.preprocessing</b> </li>\n",
        "    <li> <b>matplotlib.pyplot as plt</b> </li>\n",
        "</ul> <br>\n",
        "Remember <b> %matplotlib inline </b> to display plots"
      ]
    },
    {
      "cell_type": "code",
      "metadata": {
        "id": "s1mso59coi6j",
        "colab_type": "code",
        "colab": {}
      },
      "source": [
        "# Notice: For visualization of map, you need basemap package.\n",
        "# if you dont have basemap install on your machine, you can use the following line to install it\n",
        "# !conda install -c conda-forge  basemap==1.1.0  matplotlib==2.2.2  -y\n",
        "# Notice: you maight have to refresh your page and re-run the notebook after installation"
      ],
      "execution_count": 1,
      "outputs": []
    },
    {
      "cell_type": "code",
      "metadata": {
        "id": "l_ilJwp8oi6n",
        "colab_type": "code",
        "colab": {
          "base_uri": "https://localhost:8080/",
          "height": 71
        },
        "outputId": "aa93a4cd-3e83-4f2e-a27e-a6cfa125a751"
      },
      "source": [
        "import numpy as np \n",
        "from sklearn.cluster import DBSCAN \n",
        "from sklearn.datasets.samples_generator import make_blobs \n",
        "from sklearn.preprocessing import StandardScaler \n",
        "import matplotlib.pyplot as plt \n",
        "%matplotlib inline"
      ],
      "execution_count": 2,
      "outputs": [
        {
          "output_type": "stream",
          "text": [
            "/usr/local/lib/python3.6/dist-packages/sklearn/utils/deprecation.py:144: FutureWarning: The sklearn.datasets.samples_generator module is  deprecated in version 0.22 and will be removed in version 0.24. The corresponding classes / functions should instead be imported from sklearn.datasets. Anything that cannot be imported from sklearn.datasets is now part of the private API.\n",
            "  warnings.warn(message, FutureWarning)\n"
          ],
          "name": "stderr"
        }
      ]
    },
    {
      "cell_type": "markdown",
      "metadata": {
        "id": "fozC-etcoi6q",
        "colab_type": "text"
      },
      "source": [
        "### Data generation\n",
        "The function below will generate the data points and requires these inputs:\n",
        "<ul>\n",
        "    <li> <b>centroidLocation</b>: Coordinates of the centroids that will generate the random data. </li>\n",
        "    <ul> <li> Example: input: [[4,3], [2,-1], [-1,4]] </li> </ul>\n",
        "    <li> <b>numSamples</b>: The number of data points we want generated, split over the number of centroids (# of centroids defined in centroidLocation) </li>\n",
        "    <ul> <li> Example: 1500 </li> </ul>\n",
        "    <li> <b>clusterDeviation</b>: The standard deviation between the clusters. The larger the number, the further the spacing. </li>\n",
        "    <ul> <li> Example: 0.5 </li> </ul>\n",
        "</ul>"
      ]
    },
    {
      "cell_type": "code",
      "metadata": {
        "id": "dJkQP3UWoi6r",
        "colab_type": "code",
        "colab": {}
      },
      "source": [
        "def createDataPoints(centroidLocation, numSamples, clusterDeviation):\n",
        "    # Create random data and store in feature matrix X and response vector y.\n",
        "    X, y = make_blobs(n_samples=numSamples, centers=centroidLocation, \n",
        "                                cluster_std=clusterDeviation)\n",
        "    \n",
        "    # Standardize features by removing the mean and scaling to unit variance\n",
        "    X = StandardScaler().fit_transform(X)\n",
        "    return X, y"
      ],
      "execution_count": 3,
      "outputs": []
    },
    {
      "cell_type": "markdown",
      "metadata": {
        "id": "eoVM8EEkoi6u",
        "colab_type": "text"
      },
      "source": [
        "Use <b>createDataPoints</b> with the <b>3 inputs</b> and store the output into variables <b>X</b> and <b>y</b>."
      ]
    },
    {
      "cell_type": "code",
      "metadata": {
        "id": "d1mATeVcoi6v",
        "colab_type": "code",
        "colab": {}
      },
      "source": [
        "X, y = createDataPoints([[4,3], [2,-1], [-1,4]] , 1500, 0.5)"
      ],
      "execution_count": 4,
      "outputs": []
    },
    {
      "cell_type": "markdown",
      "metadata": {
        "id": "x4WUBa67oi6y",
        "colab_type": "text"
      },
      "source": [
        "### Modeling\n",
        "DBSCAN stands for Density-Based Spatial Clustering of Applications with Noise. This technique is one of the most common clustering algorithms  which works based on density of object.\n",
        "The whole idea is that if a particular point belongs to a cluster, it should be near to lots of other points in that cluster.\n",
        "\n",
        "It works based on two parameters: Epsilon and Minimum Points  \n",
        "__Epsilon__ determine a specified radius that if includes enough number of points within, we call it dense area  \n",
        "__minimumSamples__ determine the minimum number of data points we want in a neighborhood to define a cluster.\n",
        "\n"
      ]
    },
    {
      "cell_type": "code",
      "metadata": {
        "id": "Zui2WEl6oi6y",
        "colab_type": "code",
        "colab": {
          "base_uri": "https://localhost:8080/",
          "height": 34
        },
        "outputId": "d8f5e017-5a3e-4e70-81f7-3084cd04f107"
      },
      "source": [
        "epsilon = 0.3\n",
        "minimumSamples = 7\n",
        "db = DBSCAN(eps=epsilon, min_samples=minimumSamples).fit(X)\n",
        "labels = db.labels_\n",
        "labels"
      ],
      "execution_count": 5,
      "outputs": [
        {
          "output_type": "execute_result",
          "data": {
            "text/plain": [
              "array([0, 1, 2, ..., 0, 2, 0])"
            ]
          },
          "metadata": {
            "tags": []
          },
          "execution_count": 5
        }
      ]
    },
    {
      "cell_type": "markdown",
      "metadata": {
        "id": "pz7lBmvmoi62",
        "colab_type": "text"
      },
      "source": [
        "### Distinguish outliers\n",
        "Lets Replace all elements with 'True' in core_samples_mask that are in the cluster, 'False' if the points are outliers."
      ]
    },
    {
      "cell_type": "code",
      "metadata": {
        "id": "zc_gNdovoi63",
        "colab_type": "code",
        "colab": {
          "base_uri": "https://localhost:8080/",
          "height": 34
        },
        "outputId": "7c524c8f-58cf-4c0d-9d8b-40be29a1c20a"
      },
      "source": [
        "# First, create an array of booleans using the labels from db.\n",
        "# Returns an array having zeros in the dtype mentioned and of the shape of series object specified  \n",
        "core_samples_mask = np.zeros_like(db.labels_, dtype=bool)\n",
        "\n",
        "# Now replacing some indices value from False to True if they belong to CORE group\n",
        "core_samples_mask[db.core_sample_indices_] = True\n",
        "core_samples_mask"
      ],
      "execution_count": 6,
      "outputs": [
        {
          "output_type": "execute_result",
          "data": {
            "text/plain": [
              "array([False, False, False, ..., False, False, False])"
            ]
          },
          "metadata": {
            "tags": []
          },
          "execution_count": 6
        }
      ]
    },
    {
      "cell_type": "code",
      "metadata": {
        "id": "VDlBBaVQoi67",
        "colab_type": "code",
        "colab": {
          "base_uri": "https://localhost:8080/",
          "height": 34
        },
        "outputId": "190ac062-7730-4632-87e3-c17b2721b4ea"
      },
      "source": [
        "# Number of clusters in labels, ignoring noise if present.\n",
        "# Because -1 corresponds to OUTLIER\n",
        "\n",
        "n_clusters_ = len(set(labels)) - (1 if -1 in labels else 0)\n",
        "n_clusters_"
      ],
      "execution_count": 7,
      "outputs": [
        {
          "output_type": "execute_result",
          "data": {
            "text/plain": [
              "3"
            ]
          },
          "metadata": {
            "tags": []
          },
          "execution_count": 7
        }
      ]
    },
    {
      "cell_type": "code",
      "metadata": {
        "id": "h1s3zWVSoi6-",
        "colab_type": "code",
        "colab": {
          "base_uri": "https://localhost:8080/",
          "height": 34
        },
        "outputId": "7b5e6535-c0fd-47ee-e48c-3f0454b008fa"
      },
      "source": [
        "# Remove repetition in labels by turning it into a set.\n",
        "unique_labels = set(labels)\n",
        "unique_labels"
      ],
      "execution_count": 8,
      "outputs": [
        {
          "output_type": "execute_result",
          "data": {
            "text/plain": [
              "{-1, 0, 1, 2}"
            ]
          },
          "metadata": {
            "tags": []
          },
          "execution_count": 8
        }
      ]
    },
    {
      "cell_type": "markdown",
      "metadata": {
        "id": "koQ9JUXkoi7B",
        "colab_type": "text"
      },
      "source": [
        "### Data visualization"
      ]
    },
    {
      "cell_type": "code",
      "metadata": {
        "id": "NoraL21noi7C",
        "colab_type": "code",
        "colab": {}
      },
      "source": [
        "# Create colors for the clusters.\n",
        "colors = plt.cm.Spectral(np.linspace(0, 1, len(unique_labels)))\n"
      ],
      "execution_count": null,
      "outputs": []
    },
    {
      "cell_type": "code",
      "metadata": {
        "scrolled": true,
        "id": "6HFZHFd9oi7F",
        "colab_type": "code",
        "colab": {
          "base_uri": "https://localhost:8080/",
          "height": 265
        },
        "outputId": "6df07af8-9af5-47c1-ad33-5aab35713de1"
      },
      "source": [
        "# Plot the points with colors\n",
        "for k, col in zip(unique_labels, colors):\n",
        "    if k == -1:\n",
        "        # Black used for noise.\n",
        "        col = 'k'\n",
        "\n",
        "    class_member_mask = (labels == k)\n",
        "\n",
        "    # Plot the datapoints that are clustered\n",
        "    xy = X[class_member_mask & core_samples_mask]\n",
        "    plt.scatter(xy[:, 0], xy[:, 1],s=50, c=[col], marker=u'o', alpha=0.5)\n",
        "\n",
        "    # Plot the outliers\n",
        "    xy = X[class_member_mask & ~core_samples_mask]\n",
        "    plt.scatter(xy[:, 0], xy[:, 1],s=50, c=[col], marker=u'o', alpha=0.5)"
      ],
      "execution_count": null,
      "outputs": [
        {
          "output_type": "display_data",
          "data": {
            "image/png": "[encoded data removed]",
            "text/plain": [
              "<Figure size 432x288 with 1 Axes>"
            ]
          },
          "metadata": {
            "tags": [],
            "needs_background": "light"
          }
        }
      ]
    },
    {
      "cell_type": "markdown",
      "metadata": {
        "id": "-aLeT9I9oi7J",
        "colab_type": "text"
      },
      "source": [
        "## Practice\n",
        "To better underestand differences between partitional and density-based clustering, try to cluster the above dataset into 3 clusters using k-Means.  \n",
        "Notice: do not generate data again, use the same dataset as above."
      ]
    },
    {
      "cell_type": "code",
      "metadata": {
        "id": "dInOO2-Joi7K",
        "colab_type": "code",
        "colab": {
          "base_uri": "https://localhost:8080/",
          "height": 336
        },
        "outputId": "8dc4481e-2f89-409a-bbca-9b52fa38813a"
      },
      "source": [
        "# write your code here\n",
        "\n",
        "\n",
        "\n",
        "from sklearn.cluster import KMeans \n",
        "k = 3\n",
        "k_means3 = KMeans(init = \"k-means++\", n_clusters = k, n_init = 12)\n",
        "k_means3.fit(X)\n",
        "fig = plt.figure(figsize=(6, 4))\n",
        "ax = fig.add_subplot(1, 1, 1)\n",
        "for k, col in zip(range(k), colors):\n",
        "    my_members = (k_means3.labels_ == k)\n",
        "    plt.scatter(X[my_members, 0], X[my_members, 1],  c=col, marker=u'o', alpha=0.5)\n",
        "plt.show()\n",
        "\n",
        "\n"
      ],
      "execution_count": null,
      "outputs": [
        {
          "output_type": "stream",
          "text": [
            "*c* argument looks like a single numeric RGB or RGBA sequence, which should be avoided as value-mapping will have precedence in case its length matches with *x* & *y*.  Please use the *color* keyword-argument or provide a 2-D array with a single row if you intend to specify the same RGB or RGBA value for all points.\n",
            "*c* argument looks like a single numeric RGB or RGBA sequence, which should be avoided as value-mapping will have precedence in case its length matches with *x* & *y*.  Please use the *color* keyword-argument or provide a 2-D array with a single row if you intend to specify the same RGB or RGBA value for all points.\n",
            "*c* argument looks like a single numeric RGB or RGBA sequence, which should be avoided as value-mapping will have precedence in case its length matches with *x* & *y*.  Please use the *color* keyword-argument or provide a 2-D array with a single row if you intend to specify the same RGB or RGBA value for all points.\n"
          ],
          "name": "stderr"
        },
        {
          "output_type": "display_data",
          "data": {
            "image/png": "[encoded data removed]",
            "text/plain": [
              "<Figure size 432x288 with 1 Axes>"
            ]
          },
          "metadata": {
            "tags": [],
            "needs_background": "light"
          }
        }
      ]
    },
    {
      "cell_type": "markdown",
      "metadata": {
        "id": "CjV3-NB6oi7N",
        "colab_type": "text"
      },
      "source": [
        "Double-click __here__ for the solution.\n",
        "\n",
        "<!-- Your answer is below:\n",
        "\n",
        "\n",
        "from sklearn.cluster import KMeans \n",
        "k = 3\n",
        "k_means3 = KMeans(init = \"k-means++\", n_clusters = k, n_init = 12)\n",
        "k_means3.fit(X)\n",
        "fig = plt.figure(figsize=(6, 4))\n",
        "ax = fig.add_subplot(1, 1, 1)\n",
        "for k, col in zip(range(k), colors):\n",
        "    my_members = (k_means3.labels_ == k)\n",
        "    plt.scatter(X[my_members, 0], X[my_members, 1],  c=col, marker=u'o', alpha=0.5)\n",
        "plt.show()\n",
        "\n",
        "\n",
        "-->"
      ]
    },
    {
      "cell_type": "markdown",
      "metadata": {
        "id": "U5cHTuZSoi7N",
        "colab_type": "text"
      },
      "source": [
        "\n",
        "\n",
        "\n",
        "<h1 align=center> Weather Station Clustering using DBSCAN & scikit-learn </h1>\n",
        "<hr>\n",
        "\n",
        "DBSCAN is specially very good for tasks like class identification on a spatial context. The wonderful attribute of DBSCAN algorithm is that it can find out any arbitrary shape cluster without getting affected by noise. For example, this following example cluster the location of weather stations in Canada.\n",
        "<Click 1>\n",
        "DBSCAN can be used here, for instance, to find the group of stations which show the same weather condition. As you can see, it not only finds different arbitrary shaped clusters, can find the denser part of data-centered samples by ignoring less-dense areas or noises.\n",
        "\n",
        "let's start playing with the data. We will be working according to the following workflow: </font>\n",
        "1. Loading data\n",
        "- Overview data\n",
        "- Data cleaning\n",
        "- Data selection\n",
        "- Clustering"
      ]
    },
    {
      "cell_type": "markdown",
      "metadata": {
        "id": "QEMDwq4aoi7O",
        "colab_type": "text"
      },
      "source": [
        "### About the dataset\n",
        "\n",
        "\t\t\n",
        "<h4 align = \"center\">\n",
        "Environment Canada    \n",
        "Monthly Values for July - 2015\t\n",
        "</h4>\n",
        "<html>\n",
        "<head>\n",
        "<style>\n",
        "table {\n",
        "    font-family: arial, sans-serif;\n",
        "    border-collapse: collapse;\n",
        "    width: 100%;\n",
        "}\n",
        "\n",
        "td, th {\n",
        "    border: 1px solid #dddddd;\n",
        "    text-align: left;\n",
        "    padding: 8px;\n",
        "}\n",
        "\n",
        "tr:nth-child(even) {\n",
        "    background-color: #dddddd;\n",
        "}\n",
        "</style>\n",
        "</head>\n",
        "<body>\n",
        "\n",
        "<table>\n",
        "  <tr>\n",
        "    <th>Name in the table</th>\n",
        "    <th>Meaning</th>\n",
        "  </tr>\n",
        "  <tr>\n",
        "    <td><font color = \"green\"><strong>Stn_Name</font></td>\n",
        "    <td><font color = \"green\"><strong>Station Name</font</td>\n",
        "  </tr>\n",
        "  <tr>\n",
        "    <td><font color = \"green\"><strong>Lat</font></td>\n",
        "    <td><font color = \"green\"><strong>Latitude (North+, degrees)</font></td>\n",
        "  </tr>\n",
        "  <tr>\n",
        "    <td><font color = \"green\"><strong>Long</font></td>\n",
        "    <td><font color = \"green\"><strong>Longitude (West - , degrees)</font></td>\n",
        "  </tr>\n",
        "  <tr>\n",
        "    <td>Prov</td>\n",
        "    <td>Province</td>\n",
        "  </tr>\n",
        "  <tr>\n",
        "    <td>Tm</td>\n",
        "    <td>Mean Temperature (°C)</td>\n",
        "  </tr>\n",
        "  <tr>\n",
        "    <td>DwTm</td>\n",
        "    <td>Days without Valid Mean Temperature</td>\n",
        "  </tr>\n",
        "  <tr>\n",
        "    <td>D</td>\n",
        "    <td>Mean Temperature difference from Normal (1981-2010) (°C)</td>\n",
        "  </tr>\n",
        "  <tr>\n",
        "    <td><font color = \"black\">Tx</font></td>\n",
        "    <td><font color = \"black\">Highest Monthly Maximum Temperature (°C)</font></td>\n",
        "  </tr>\n",
        "  <tr>\n",
        "    <td>DwTx</td>\n",
        "    <td>Days without Valid Maximum Temperature</td>\n",
        "  </tr>\n",
        "  <tr>\n",
        "    <td><font color = \"black\">Tn</font></td>\n",
        "    <td><font color = \"black\">Lowest Monthly Minimum Temperature (°C)</font></td>\n",
        "  </tr>\n",
        "  <tr>\n",
        "    <td>DwTn</td>\n",
        "    <td>Days without Valid Minimum Temperature</td>\n",
        "  </tr>\n",
        "  <tr>\n",
        "    <td>S</td>\n",
        "    <td>Snowfall (cm)</td>\n",
        "  </tr>\n",
        "  <tr>\n",
        "    <td>DwS</td>\n",
        "    <td>Days without Valid Snowfall</td>\n",
        "  </tr>\n",
        "  <tr>\n",
        "    <td>S%N</td>\n",
        "    <td>Percent of Normal (1981-2010) Snowfall</td>\n",
        "  </tr>\n",
        "  <tr>\n",
        "    <td><font color = \"green\"><strong>P</font></td>\n",
        "    <td><font color = \"green\"><strong>Total Precipitation (mm)</font></td>\n",
        "  </tr>\n",
        "  <tr>\n",
        "    <td>DwP</td>\n",
        "    <td>Days without Valid Precipitation</td>\n",
        "  </tr>\n",
        "  <tr>\n",
        "    <td>P%N</td>\n",
        "    <td>Percent of Normal (1981-2010) Precipitation</td>\n",
        "  </tr>\n",
        "  <tr>\n",
        "    <td>S_G</td>\n",
        "    <td>Snow on the ground at the end of the month (cm)</td>\n",
        "  </tr>\n",
        "  <tr>\n",
        "    <td>Pd</td>\n",
        "    <td>Number of days with Precipitation 1.0 mm or more</td>\n",
        "  </tr>\n",
        "  <tr>\n",
        "    <td>BS</td>\n",
        "    <td>Bright Sunshine (hours)</td>\n",
        "  </tr>\n",
        "  <tr>\n",
        "    <td>DwBS</td>\n",
        "    <td>Days without Valid Bright Sunshine</td>\n",
        "  </tr>\n",
        "  <tr>\n",
        "    <td>BS%</td>\n",
        "    <td>Percent of Normal (1981-2010) Bright Sunshine</td>\n",
        "  </tr>\n",
        "  <tr>\n",
        "    <td>HDD</td>\n",
        "    <td>Degree Days below 18 °C</td>\n",
        "  </tr>\n",
        "  <tr>\n",
        "    <td>CDD</td>\n",
        "    <td>Degree Days above 18 °C</td>\n",
        "  </tr>\n",
        "  <tr>\n",
        "    <td>Stn_No</td>\n",
        "    <td>Climate station identifier (first 3 digits indicate   drainage basin, last 4 characters are for sorting alphabetically).</td>\n",
        "  </tr>\n",
        "  <tr>\n",
        "    <td>NA</td>\n",
        "    <td>Not Available</td>\n",
        "  </tr>\n",
        "\n",
        "\n",
        "</table>\n",
        "\n",
        "</body>\n",
        "</html>\n",
        "\n",
        " "
      ]
    },
    {
      "cell_type": "markdown",
      "metadata": {
        "id": "diWLd1vXoi7O",
        "colab_type": "text"
      },
      "source": [
        "### 1-Download data\n",
        "To download the data, we will use **`!wget`**. To download the data, we will use `!wget` to download it from IBM Object Storage.  \n",
        "__Did you know?__ When it comes to Machine Learning, you will likely be working with large datasets. As a business, where can you host your data? IBM is offering a unique opportunity for businesses, with 10 Tb of IBM Cloud Object Storage: [Sign up now for free](http://cocl.us/ML0101EN-IBM-Offer-CC)"
      ]
    },
    {
      "cell_type": "code",
      "metadata": {
        "id": "EGM3V9jEoi7P",
        "colab_type": "code",
        "colab": {
          "base_uri": "https://localhost:8080/",
          "height": 204
        },
        "outputId": "2d151c85-b956-4d76-ab9b-f55454a93f75"
      },
      "source": [
        "!wget -O weather-stations20140101-20141231.csv https://s3-api.us-geo.objectstorage.softlayer.net/cf-courses-data/CognitiveClass/ML0101ENv3/labs/weather-stations20140101-20141231.csv"
      ],
      "execution_count": null,
      "outputs": [
        {
          "output_type": "stream",
          "text": [
            "--2020-07-07 05:34:52--  https://s3-api.us-geo.objectstorage.softlayer.net/cf-courses-data/CognitiveClass/ML0101ENv3/labs/weather-stations20140101-20141231.csv\n",
            "Resolving s3-api.us-geo.objectstorage.softlayer.net (s3-api.us-geo.objectstorage.softlayer.net)... 67.228.254.196\n",
            "Connecting to s3-api.us-geo.objectstorage.softlayer.net (s3-api.us-geo.objectstorage.softlayer.net)|67.228.254.196|:443... connected.\n",
            "HTTP request sent, awaiting response... 200 OK\n",
            "Length: 129821 (127K) [text/csv]\n",
            "Saving to: ‘weather-stations20140101-20141231.csv’\n",
            "\n",
            "\r          weather-s   0%[                    ]       0  --.-KB/s               \rweather-stations201 100%[===================>] 126.78K  --.-KB/s    in 0.09s   \n",
            "\n",
            "2020-07-07 05:34:52 (1.41 MB/s) - ‘weather-stations20140101-20141231.csv’ saved [129821/129821]\n",
            "\n"
          ],
          "name": "stdout"
        }
      ]
    },
    {
      "cell_type": "markdown",
      "metadata": {
        "id": "rOozdEKCoi7S",
        "colab_type": "text"
      },
      "source": [
        "### 2- Load the dataset\n",
        "**We will import the .csv then we creates the columns for year, month and day.**"
      ]
    },
    {
      "cell_type": "code",
      "metadata": {
        "id": "BUIvQLUgoi7S",
        "colab_type": "code",
        "colab": {
          "base_uri": "https://localhost:8080/",
          "height": 326
        },
        "outputId": "5f508d90-e91b-444c-829c-41cfdb61ab7f"
      },
      "source": [
        "import csv\n",
        "import pandas as pd\n",
        "import numpy as np\n",
        "\n",
        "filename='weather-stations20140101-20141231.csv'\n",
        "\n",
        "#Read csv\n",
        "pdf = pd.read_csv(filename)\n",
        "pdf.head(5)"
      ],
      "execution_count": null,
      "outputs": [
        {
          "output_type": "execute_result",
          "data": {
            "text/html": [
              "<div>\n",
              "<style scoped>\n",
              "    .dataframe tbody tr th:only-of-type {\n",
              "        vertical-align: middle;\n",
              "    }\n",
              "\n",
              "    .dataframe tbody tr th {\n",
              "        vertical-align: top;\n",
              "    }\n",
              "\n",
              "    .dataframe thead th {\n",
              "        text-align: right;\n",
              "    }\n",
              "</style>\n",
              "<table border=\"1\" class=\"dataframe\">\n",
              "  <thead>\n",
              "    <tr style=\"text-align: right;\">\n",
              "      <th></th>\n",
              "      <th>Stn_Name</th>\n",
              "      <th>Lat</th>\n",
              "      <th>Long</th>\n",
              "      <th>Prov</th>\n",
              "      <th>Tm</th>\n",
              "      <th>DwTm</th>\n",
              "      <th>D</th>\n",
              "      <th>Tx</th>\n",
              "      <th>DwTx</th>\n",
              "      <th>Tn</th>\n",
              "      <th>DwTn</th>\n",
              "      <th>S</th>\n",
              "      <th>DwS</th>\n",
              "      <th>S%N</th>\n",
              "      <th>P</th>\n",
              "      <th>DwP</th>\n",
              "      <th>P%N</th>\n",
              "      <th>S_G</th>\n",
              "      <th>Pd</th>\n",
              "      <th>BS</th>\n",
              "      <th>DwBS</th>\n",
              "      <th>BS%</th>\n",
              "      <th>HDD</th>\n",
              "      <th>CDD</th>\n",
              "      <th>Stn_No</th>\n",
              "    </tr>\n",
              "  </thead>\n",
              "  <tbody>\n",
              "    <tr>\n",
              "      <th>0</th>\n",
              "      <td>CHEMAINUS</td>\n",
              "      <td>48.935</td>\n",
              "      <td>-123.742</td>\n",
              "      <td>BC</td>\n",
              "      <td>8.2</td>\n",
              "      <td>0.0</td>\n",
              "      <td>NaN</td>\n",
              "      <td>13.5</td>\n",
              "      <td>0.0</td>\n",
              "      <td>1.0</td>\n",
              "      <td>0.0</td>\n",
              "      <td>0.0</td>\n",
              "      <td>0.0</td>\n",
              "      <td>NaN</td>\n",
              "      <td>178.8</td>\n",
              "      <td>0.0</td>\n",
              "      <td>NaN</td>\n",
              "      <td>0.0</td>\n",
              "      <td>12.0</td>\n",
              "      <td>NaN</td>\n",
              "      <td>NaN</td>\n",
              "      <td>NaN</td>\n",
              "      <td>273.3</td>\n",
              "      <td>0.0</td>\n",
              "      <td>1011500</td>\n",
              "    </tr>\n",
              "    <tr>\n",
              "      <th>1</th>\n",
              "      <td>COWICHAN LAKE FORESTRY</td>\n",
              "      <td>48.824</td>\n",
              "      <td>-124.133</td>\n",
              "      <td>BC</td>\n",
              "      <td>7.0</td>\n",
              "      <td>0.0</td>\n",
              "      <td>3.0</td>\n",
              "      <td>15.0</td>\n",
              "      <td>0.0</td>\n",
              "      <td>-3.0</td>\n",
              "      <td>0.0</td>\n",
              "      <td>0.0</td>\n",
              "      <td>0.0</td>\n",
              "      <td>0.0</td>\n",
              "      <td>258.6</td>\n",
              "      <td>0.0</td>\n",
              "      <td>104.0</td>\n",
              "      <td>0.0</td>\n",
              "      <td>12.0</td>\n",
              "      <td>NaN</td>\n",
              "      <td>NaN</td>\n",
              "      <td>NaN</td>\n",
              "      <td>307.0</td>\n",
              "      <td>0.0</td>\n",
              "      <td>1012040</td>\n",
              "    </tr>\n",
              "    <tr>\n",
              "      <th>2</th>\n",
              "      <td>LAKE COWICHAN</td>\n",
              "      <td>48.829</td>\n",
              "      <td>-124.052</td>\n",
              "      <td>BC</td>\n",
              "      <td>6.8</td>\n",
              "      <td>13.0</td>\n",
              "      <td>2.8</td>\n",
              "      <td>16.0</td>\n",
              "      <td>9.0</td>\n",
              "      <td>-2.5</td>\n",
              "      <td>9.0</td>\n",
              "      <td>0.0</td>\n",
              "      <td>9.0</td>\n",
              "      <td>NaN</td>\n",
              "      <td>264.6</td>\n",
              "      <td>9.0</td>\n",
              "      <td>NaN</td>\n",
              "      <td>NaN</td>\n",
              "      <td>11.0</td>\n",
              "      <td>NaN</td>\n",
              "      <td>NaN</td>\n",
              "      <td>NaN</td>\n",
              "      <td>168.1</td>\n",
              "      <td>0.0</td>\n",
              "      <td>1012055</td>\n",
              "    </tr>\n",
              "    <tr>\n",
              "      <th>3</th>\n",
              "      <td>DISCOVERY ISLAND</td>\n",
              "      <td>48.425</td>\n",
              "      <td>-123.226</td>\n",
              "      <td>BC</td>\n",
              "      <td>NaN</td>\n",
              "      <td>NaN</td>\n",
              "      <td>NaN</td>\n",
              "      <td>12.5</td>\n",
              "      <td>0.0</td>\n",
              "      <td>NaN</td>\n",
              "      <td>NaN</td>\n",
              "      <td>NaN</td>\n",
              "      <td>NaN</td>\n",
              "      <td>NaN</td>\n",
              "      <td>NaN</td>\n",
              "      <td>NaN</td>\n",
              "      <td>NaN</td>\n",
              "      <td>NaN</td>\n",
              "      <td>NaN</td>\n",
              "      <td>NaN</td>\n",
              "      <td>NaN</td>\n",
              "      <td>NaN</td>\n",
              "      <td>NaN</td>\n",
              "      <td>NaN</td>\n",
              "      <td>1012475</td>\n",
              "    </tr>\n",
              "    <tr>\n",
              "      <th>4</th>\n",
              "      <td>DUNCAN KELVIN CREEK</td>\n",
              "      <td>48.735</td>\n",
              "      <td>-123.728</td>\n",
              "      <td>BC</td>\n",
              "      <td>7.7</td>\n",
              "      <td>2.0</td>\n",
              "      <td>3.4</td>\n",
              "      <td>14.5</td>\n",
              "      <td>2.0</td>\n",
              "      <td>-1.0</td>\n",
              "      <td>2.0</td>\n",
              "      <td>0.0</td>\n",
              "      <td>2.0</td>\n",
              "      <td>NaN</td>\n",
              "      <td>168.4</td>\n",
              "      <td>2.0</td>\n",
              "      <td>NaN</td>\n",
              "      <td>NaN</td>\n",
              "      <td>11.0</td>\n",
              "      <td>NaN</td>\n",
              "      <td>NaN</td>\n",
              "      <td>NaN</td>\n",
              "      <td>267.7</td>\n",
              "      <td>0.0</td>\n",
              "      <td>1012573</td>\n",
              "    </tr>\n",
              "  </tbody>\n",
              "</table>\n",
              "</div>"
            ],
            "text/plain": [
              "                 Stn_Name     Lat     Long Prov  ...  BS%    HDD  CDD   Stn_No\n",
              "0               CHEMAINUS  48.935 -123.742   BC  ...  NaN  273.3  0.0  1011500\n",
              "1  COWICHAN LAKE FORESTRY  48.824 -124.133   BC  ...  NaN  307.0  0.0  1012040\n",
              "2           LAKE COWICHAN  48.829 -124.052   BC  ...  NaN  168.1  0.0  1012055\n",
              "3        DISCOVERY ISLAND  48.425 -123.226   BC  ...  NaN    NaN  NaN  1012475\n",
              "4     DUNCAN KELVIN CREEK  48.735 -123.728   BC  ...  NaN  267.7  0.0  1012573\n",
              "\n",
              "[5 rows x 25 columns]"
            ]
          },
          "metadata": {
            "tags": []
          },
          "execution_count": 43
        }
      ]
    },
    {
      "cell_type": "markdown",
      "metadata": {
        "id": "K00AwsaWoi7V",
        "colab_type": "text"
      },
      "source": [
        "### 3-Cleaning\n",
        "Lets remove rows that dont have any value in the __Tm__ field."
      ]
    },
    {
      "cell_type": "code",
      "metadata": {
        "id": "zERaajDmoi7V",
        "colab_type": "code",
        "colab": {
          "base_uri": "https://localhost:8080/",
          "height": 289
        },
        "outputId": "32cd3354-cd8f-4af2-e96d-f425cf7c781d"
      },
      "source": [
        "# For Removing the Rows where we have NaN, We use name_of_df=name_of_df[pd.notnull(name_of_df[\"Column Name where NAN is present \"])]\n",
        "# After removing We reset the Index Numbering using name_of_df.reset_index(drop=True)\n",
        "pdf = pdf[pd.notnull(pdf[\"Tm\"])]\n",
        "pdf = pdf.reset_index(drop=True)\n",
        "pdf.head(5)"
      ],
      "execution_count": null,
      "outputs": [
        {
          "output_type": "execute_result",
          "data": {
            "text/html": [
              "<div>\n",
              "<style scoped>\n",
              "    .dataframe tbody tr th:only-of-type {\n",
              "        vertical-align: middle;\n",
              "    }\n",
              "\n",
              "    .dataframe tbody tr th {\n",
              "        vertical-align: top;\n",
              "    }\n",
              "\n",
              "    .dataframe thead th {\n",
              "        text-align: right;\n",
              "    }\n",
              "</style>\n",
              "<table border=\"1\" class=\"dataframe\">\n",
              "  <thead>\n",
              "    <tr style=\"text-align: right;\">\n",
              "      <th></th>\n",
              "      <th>Stn_Name</th>\n",
              "      <th>Lat</th>\n",
              "      <th>Long</th>\n",
              "      <th>Prov</th>\n",
              "      <th>Tm</th>\n",
              "      <th>DwTm</th>\n",
              "      <th>D</th>\n",
              "      <th>Tx</th>\n",
              "      <th>DwTx</th>\n",
              "      <th>Tn</th>\n",
              "      <th>DwTn</th>\n",
              "      <th>S</th>\n",
              "      <th>DwS</th>\n",
              "      <th>S%N</th>\n",
              "      <th>P</th>\n",
              "      <th>DwP</th>\n",
              "      <th>P%N</th>\n",
              "      <th>S_G</th>\n",
              "      <th>Pd</th>\n",
              "      <th>BS</th>\n",
              "      <th>DwBS</th>\n",
              "      <th>BS%</th>\n",
              "      <th>HDD</th>\n",
              "      <th>CDD</th>\n",
              "      <th>Stn_No</th>\n",
              "    </tr>\n",
              "  </thead>\n",
              "  <tbody>\n",
              "    <tr>\n",
              "      <th>0</th>\n",
              "      <td>CHEMAINUS</td>\n",
              "      <td>48.935</td>\n",
              "      <td>-123.742</td>\n",
              "      <td>BC</td>\n",
              "      <td>8.2</td>\n",
              "      <td>0.0</td>\n",
              "      <td>NaN</td>\n",
              "      <td>13.5</td>\n",
              "      <td>0.0</td>\n",
              "      <td>1.0</td>\n",
              "      <td>0.0</td>\n",
              "      <td>0.0</td>\n",
              "      <td>0.0</td>\n",
              "      <td>NaN</td>\n",
              "      <td>178.8</td>\n",
              "      <td>0.0</td>\n",
              "      <td>NaN</td>\n",
              "      <td>0.0</td>\n",
              "      <td>12.0</td>\n",
              "      <td>NaN</td>\n",
              "      <td>NaN</td>\n",
              "      <td>NaN</td>\n",
              "      <td>273.3</td>\n",
              "      <td>0.0</td>\n",
              "      <td>1011500</td>\n",
              "    </tr>\n",
              "    <tr>\n",
              "      <th>1</th>\n",
              "      <td>COWICHAN LAKE FORESTRY</td>\n",
              "      <td>48.824</td>\n",
              "      <td>-124.133</td>\n",
              "      <td>BC</td>\n",
              "      <td>7.0</td>\n",
              "      <td>0.0</td>\n",
              "      <td>3.0</td>\n",
              "      <td>15.0</td>\n",
              "      <td>0.0</td>\n",
              "      <td>-3.0</td>\n",
              "      <td>0.0</td>\n",
              "      <td>0.0</td>\n",
              "      <td>0.0</td>\n",
              "      <td>0.0</td>\n",
              "      <td>258.6</td>\n",
              "      <td>0.0</td>\n",
              "      <td>104.0</td>\n",
              "      <td>0.0</td>\n",
              "      <td>12.0</td>\n",
              "      <td>NaN</td>\n",
              "      <td>NaN</td>\n",
              "      <td>NaN</td>\n",
              "      <td>307.0</td>\n",
              "      <td>0.0</td>\n",
              "      <td>1012040</td>\n",
              "    </tr>\n",
              "    <tr>\n",
              "      <th>2</th>\n",
              "      <td>LAKE COWICHAN</td>\n",
              "      <td>48.829</td>\n",
              "      <td>-124.052</td>\n",
              "      <td>BC</td>\n",
              "      <td>6.8</td>\n",
              "      <td>13.0</td>\n",
              "      <td>2.8</td>\n",
              "      <td>16.0</td>\n",
              "      <td>9.0</td>\n",
              "      <td>-2.5</td>\n",
              "      <td>9.0</td>\n",
              "      <td>0.0</td>\n",
              "      <td>9.0</td>\n",
              "      <td>NaN</td>\n",
              "      <td>264.6</td>\n",
              "      <td>9.0</td>\n",
              "      <td>NaN</td>\n",
              "      <td>NaN</td>\n",
              "      <td>11.0</td>\n",
              "      <td>NaN</td>\n",
              "      <td>NaN</td>\n",
              "      <td>NaN</td>\n",
              "      <td>168.1</td>\n",
              "      <td>0.0</td>\n",
              "      <td>1012055</td>\n",
              "    </tr>\n",
              "    <tr>\n",
              "      <th>3</th>\n",
              "      <td>DUNCAN KELVIN CREEK</td>\n",
              "      <td>48.735</td>\n",
              "      <td>-123.728</td>\n",
              "      <td>BC</td>\n",
              "      <td>7.7</td>\n",
              "      <td>2.0</td>\n",
              "      <td>3.4</td>\n",
              "      <td>14.5</td>\n",
              "      <td>2.0</td>\n",
              "      <td>-1.0</td>\n",
              "      <td>2.0</td>\n",
              "      <td>0.0</td>\n",
              "      <td>2.0</td>\n",
              "      <td>NaN</td>\n",
              "      <td>168.4</td>\n",
              "      <td>2.0</td>\n",
              "      <td>NaN</td>\n",
              "      <td>NaN</td>\n",
              "      <td>11.0</td>\n",
              "      <td>NaN</td>\n",
              "      <td>NaN</td>\n",
              "      <td>NaN</td>\n",
              "      <td>267.7</td>\n",
              "      <td>0.0</td>\n",
              "      <td>1012573</td>\n",
              "    </tr>\n",
              "    <tr>\n",
              "      <th>4</th>\n",
              "      <td>ESQUIMALT HARBOUR</td>\n",
              "      <td>48.432</td>\n",
              "      <td>-123.439</td>\n",
              "      <td>BC</td>\n",
              "      <td>8.8</td>\n",
              "      <td>0.0</td>\n",
              "      <td>NaN</td>\n",
              "      <td>13.1</td>\n",
              "      <td>0.0</td>\n",
              "      <td>1.9</td>\n",
              "      <td>0.0</td>\n",
              "      <td>NaN</td>\n",
              "      <td>NaN</td>\n",
              "      <td>NaN</td>\n",
              "      <td>81.0</td>\n",
              "      <td>8.0</td>\n",
              "      <td>NaN</td>\n",
              "      <td>NaN</td>\n",
              "      <td>12.0</td>\n",
              "      <td>NaN</td>\n",
              "      <td>NaN</td>\n",
              "      <td>NaN</td>\n",
              "      <td>258.6</td>\n",
              "      <td>0.0</td>\n",
              "      <td>1012710</td>\n",
              "    </tr>\n",
              "  </tbody>\n",
              "</table>\n",
              "</div>"
            ],
            "text/plain": [
              "                 Stn_Name     Lat     Long Prov  ...  BS%    HDD  CDD   Stn_No\n",
              "0               CHEMAINUS  48.935 -123.742   BC  ...  NaN  273.3  0.0  1011500\n",
              "1  COWICHAN LAKE FORESTRY  48.824 -124.133   BC  ...  NaN  307.0  0.0  1012040\n",
              "2           LAKE COWICHAN  48.829 -124.052   BC  ...  NaN  168.1  0.0  1012055\n",
              "3     DUNCAN KELVIN CREEK  48.735 -123.728   BC  ...  NaN  267.7  0.0  1012573\n",
              "4       ESQUIMALT HARBOUR  48.432 -123.439   BC  ...  NaN  258.6  0.0  1012710\n",
              "\n",
              "[5 rows x 25 columns]"
            ]
          },
          "metadata": {
            "tags": []
          },
          "execution_count": 44
        }
      ]
    },
    {
      "cell_type": "markdown",
      "metadata": {
        "id": "irNVOTI3oi7Z",
        "colab_type": "text"
      },
      "source": [
        "### 4-Visualization\n",
        "Visualization of stations on map using basemap package. The matplotlib basemap toolkit is a library for plotting 2D data on maps in Python. Basemap does not do any plotting on it’s own, but provides the facilities to transform coordinates to a map projections. \n",
        "\n",
        "Please notice that the size of each data points represents the average of maximum temperature for each station in a year. "
      ]
    },
    {
      "cell_type": "code",
      "metadata": {
        "id": "5PjtYmmZoi7a",
        "colab_type": "code",
        "colab": {
          "base_uri": "https://localhost:8080/",
          "height": 367
        },
        "outputId": "1910a7a9-f7fc-4c22-de1d-2cea844ac2ef"
      },
      "source": [
        "from mpl_toolkits.basemap import Basemap\n",
        "import matplotlib.pyplot as plt\n",
        "from pylab import rcParams\n",
        "%matplotlib inline\n",
        "rcParams['figure.figsize'] = (14,10)\n",
        "\n",
        "llon=-140\n",
        "ulon=-50\n",
        "llat=40\n",
        "ulat=65\n",
        "\n",
        "pdf = pdf[(pdf['Long'] > llon) & (pdf['Long'] < ulon) & (pdf['Lat'] > llat) &(pdf['Lat'] < ulat)]\n",
        "\n",
        "my_map = Basemap(projection='merc',\n",
        "            resolution = 'l', area_thresh = 1000.0,\n",
        "            llcrnrlon=llon, llcrnrlat=llat, #min longitude (llcrnrlon) and latitude (llcrnrlat)\n",
        "            urcrnrlon=ulon, urcrnrlat=ulat) #max longitude (urcrnrlon) and latitude (urcrnrlat)\n",
        "\n",
        "my_map.drawcoastlines()\n",
        "my_map.drawcountries()\n",
        "# my_map.drawmapboundary()\n",
        "my_map.fillcontinents(color = 'white', alpha = 0.3)\n",
        "my_map.shadedrelief()\n",
        "\n",
        "# To collect data based on stations        \n",
        "\n",
        "xs,ys = my_map(np.asarray(pdf.Long), np.asarray(pdf.Lat))\n",
        "pdf['xm']= xs.tolist()\n",
        "pdf['ym'] =ys.tolist()\n",
        "\n",
        "#Visualization1\n",
        "for index,row in pdf.iterrows():\n",
        "#   x,y = my_map(row.Long, row.Lat)\n",
        "   my_map.plot(row.xm, row.ym,markerfacecolor =([1,0,0]),  marker='o', markersize= 5, alpha = 0.75)\n",
        "#plt.text(x,y,stn)\n",
        "plt.show()\n",
        "\n"
      ],
      "execution_count": null,
      "outputs": [
        {
          "output_type": "error",
          "ename": "ModuleNotFoundError",
          "evalue": "ignored",
          "traceback": [
            "\u001b[0;31m---------------------------------------------------------------------------\u001b[0m",
            "\u001b[0;31mModuleNotFoundError\u001b[0m                       Traceback (most recent call last)",
            "\u001b[0;32m<ipython-input-45-9a0818377016>\u001b[0m in \u001b[0;36m<module>\u001b[0;34m()\u001b[0m\n\u001b[0;32m----> 1\u001b[0;31m \u001b[0;32mfrom\u001b[0m \u001b[0mmpl_toolkits\u001b[0m\u001b[0;34m.\u001b[0m\u001b[0mbasemap\u001b[0m \u001b[0;32mimport\u001b[0m \u001b[0mBasemap\u001b[0m\u001b[0;34m\u001b[0m\u001b[0;34m\u001b[0m\u001b[0m\n\u001b[0m\u001b[1;32m      2\u001b[0m \u001b[0;32mimport\u001b[0m \u001b[0mmatplotlib\u001b[0m\u001b[0;34m.\u001b[0m\u001b[0mpyplot\u001b[0m \u001b[0;32mas\u001b[0m \u001b[0mplt\u001b[0m\u001b[0;34m\u001b[0m\u001b[0;34m\u001b[0m\u001b[0m\n\u001b[1;32m      3\u001b[0m \u001b[0;32mfrom\u001b[0m \u001b[0mpylab\u001b[0m \u001b[0;32mimport\u001b[0m \u001b[0mrcParams\u001b[0m\u001b[0;34m\u001b[0m\u001b[0;34m\u001b[0m\u001b[0m\n\u001b[1;32m      4\u001b[0m \u001b[0mget_ipython\u001b[0m\u001b[0;34m(\u001b[0m\u001b[0;34m)\u001b[0m\u001b[0;34m.\u001b[0m\u001b[0mmagic\u001b[0m\u001b[0;34m(\u001b[0m\u001b[0;34m'matplotlib inline'\u001b[0m\u001b[0;34m)\u001b[0m\u001b[0;34m\u001b[0m\u001b[0;34m\u001b[0m\u001b[0m\n\u001b[1;32m      5\u001b[0m \u001b[0mrcParams\u001b[0m\u001b[0;34m[\u001b[0m\u001b[0;34m'figure.figsize'\u001b[0m\u001b[0;34m]\u001b[0m \u001b[0;34m=\u001b[0m \u001b[0;34m(\u001b[0m\u001b[0;36m14\u001b[0m\u001b[0;34m,\u001b[0m\u001b[0;36m10\u001b[0m\u001b[0;34m)\u001b[0m\u001b[0;34m\u001b[0m\u001b[0;34m\u001b[0m\u001b[0m\n",
            "\u001b[0;31mModuleNotFoundError\u001b[0m: No module named 'mpl_toolkits.basemap'",
            "",
            "\u001b[0;31m---------------------------------------------------------------------------\u001b[0;32m\nNOTE: If your import is failing due to a missing package, you can\nmanually install dependencies using either !pip or !apt.\n\nTo view examples of installing some common dependencies, click the\n\"Open Examples\" button below.\n\u001b[0;31m---------------------------------------------------------------------------\u001b[0m\n"
          ]
        }
      ]
    },
    {
      "cell_type": "markdown",
      "metadata": {
        "id": "aNJeMIaqoi7d",
        "colab_type": "text"
      },
      "source": [
        "### 5- Clustering of stations based on their location i.e. Lat & Lon\n",
        "\n",
        "__DBSCAN__ form sklearn library can runs DBSCAN clustering from vector array or distance matrix. In our case, we pass it the Numpy array Clus_dataSet to find core samples of high density and expands clusters from them. "
      ]
    },
    {
      "cell_type": "code",
      "metadata": {
        "id": "W0cSGMOwoi7e",
        "colab_type": "code",
        "colab": {
          "base_uri": "https://localhost:8080/",
          "height": 374
        },
        "outputId": "7da99948-5215-4cd9-e7d9-b351ffcdf9c2"
      },
      "source": [
        "from sklearn.cluster import DBSCAN\n",
        "import sklearn.utils\n",
        "from sklearn.preprocessing import StandardScaler\n",
        "\n",
        "sklearn.utils.check_random_state(1000)\n",
        "\n",
        "Clus_dataSet = pdf[['xm','ym']]\n",
        "\n",
        "# Converting Nan to Numeric\n",
        "Clus_dataSet = np.nan_to_num(Clus_dataSet)\n",
        "\n",
        "# Normalizing the DATA.\n",
        "Clus_dataSet = StandardScaler().fit_transform(Clus_dataSet)\n",
        "\n",
        "# Compute DBSCAN\n",
        "db = DBSCAN(eps=0.15, min_samples=10).fit(Clus_dataSet)\n",
        "\n",
        "#Return an array of zeros with the same shape and type as a given array (Here Boolean so it has False)\n",
        "#The shape and data-type of `db.labels_` define these same attributes of the returned array.  \n",
        "\n",
        "core_samples_mask = np.zeros_like(db.labels_, dtype=bool)\n",
        "\n",
        "# First We have created a array named \"core_samples_mask\" which has All entries as False and size similar to  \"db.labels_\"\n",
        "# Now We are updating the values in \"core_samples_mask\" array with \"True\" at the indices of Core Points using the \"db.core_sample_indices\"\n",
        "\n",
        "core_samples_mask[db.core_sample_indices_] = True\n",
        "\n",
        "labels = db.labels_\n",
        "pdf[\"Clus_Db\"]=labels\n",
        "\n",
        "realClusterNum=len(set(labels)) - (1 if -1 in labels else 0)\n",
        "# We are subtracting 1 if \"-1\" in Labels because \"-1\" corresponds to OUTLIERS which should not be included in the Cluster Labels. \n",
        "\n",
        "clusterNum = len(set(labels)) \n",
        "\n",
        "# A sample of clusters\n",
        "pdf[[\"Stn_Name\",\"Tx\",\"Tm\",\"Clus_Db\"]].head(5)"
      ],
      "execution_count": null,
      "outputs": [
        {
          "output_type": "error",
          "ename": "KeyError",
          "evalue": "ignored",
          "traceback": [
            "\u001b[0;31m---------------------------------------------------------------------------\u001b[0m",
            "\u001b[0;31mKeyError\u001b[0m                                  Traceback (most recent call last)",
            "\u001b[0;32m<ipython-input-29-54aec90cb32a>\u001b[0m in \u001b[0;36m<module>\u001b[0;34m()\u001b[0m\n\u001b[1;32m      5\u001b[0m \u001b[0msklearn\u001b[0m\u001b[0;34m.\u001b[0m\u001b[0mutils\u001b[0m\u001b[0;34m.\u001b[0m\u001b[0mcheck_random_state\u001b[0m\u001b[0;34m(\u001b[0m\u001b[0;36m1000\u001b[0m\u001b[0;34m)\u001b[0m\u001b[0;34m\u001b[0m\u001b[0;34m\u001b[0m\u001b[0m\n\u001b[1;32m      6\u001b[0m \u001b[0;34m\u001b[0m\u001b[0m\n\u001b[0;32m----> 7\u001b[0;31m \u001b[0mClus_dataSet\u001b[0m \u001b[0;34m=\u001b[0m \u001b[0mpdf\u001b[0m\u001b[0;34m[\u001b[0m\u001b[0;34m[\u001b[0m\u001b[0;34m'xm'\u001b[0m\u001b[0;34m,\u001b[0m\u001b[0;34m'ym'\u001b[0m\u001b[0;34m]\u001b[0m\u001b[0;34m]\u001b[0m\u001b[0;34m\u001b[0m\u001b[0;34m\u001b[0m\u001b[0m\n\u001b[0m\u001b[1;32m      8\u001b[0m \u001b[0;34m\u001b[0m\u001b[0m\n\u001b[1;32m      9\u001b[0m \u001b[0;31m# Converting Nan to Numeric\u001b[0m\u001b[0;34m\u001b[0m\u001b[0;34m\u001b[0m\u001b[0;34m\u001b[0m\u001b[0m\n",
            "\u001b[0;32m/usr/local/lib/python3.6/dist-packages/pandas/core/frame.py\u001b[0m in \u001b[0;36m__getitem__\u001b[0;34m(self, key)\u001b[0m\n\u001b[1;32m   2804\u001b[0m             \u001b[0;32mif\u001b[0m \u001b[0mis_iterator\u001b[0m\u001b[0;34m(\u001b[0m\u001b[0mkey\u001b[0m\u001b[0;34m)\u001b[0m\u001b[0;34m:\u001b[0m\u001b[0;34m\u001b[0m\u001b[0;34m\u001b[0m\u001b[0m\n\u001b[1;32m   2805\u001b[0m                 \u001b[0mkey\u001b[0m \u001b[0;34m=\u001b[0m \u001b[0mlist\u001b[0m\u001b[0;34m(\u001b[0m\u001b[0mkey\u001b[0m\u001b[0;34m)\u001b[0m\u001b[0;34m\u001b[0m\u001b[0;34m\u001b[0m\u001b[0m\n\u001b[0;32m-> 2806\u001b[0;31m             \u001b[0mindexer\u001b[0m \u001b[0;34m=\u001b[0m \u001b[0mself\u001b[0m\u001b[0;34m.\u001b[0m\u001b[0mloc\u001b[0m\u001b[0;34m.\u001b[0m\u001b[0m_get_listlike_indexer\u001b[0m\u001b[0;34m(\u001b[0m\u001b[0mkey\u001b[0m\u001b[0;34m,\u001b[0m \u001b[0maxis\u001b[0m\u001b[0;34m=\u001b[0m\u001b[0;36m1\u001b[0m\u001b[0;34m,\u001b[0m \u001b[0mraise_missing\u001b[0m\u001b[0;34m=\u001b[0m\u001b[0;32mTrue\u001b[0m\u001b[0;34m)\u001b[0m\u001b[0;34m[\u001b[0m\u001b[0;36m1\u001b[0m\u001b[0;34m]\u001b[0m\u001b[0;34m\u001b[0m\u001b[0;34m\u001b[0m\u001b[0m\n\u001b[0m\u001b[1;32m   2807\u001b[0m \u001b[0;34m\u001b[0m\u001b[0m\n\u001b[1;32m   2808\u001b[0m         \u001b[0;31m# take() does not accept boolean indexers\u001b[0m\u001b[0;34m\u001b[0m\u001b[0;34m\u001b[0m\u001b[0;34m\u001b[0m\u001b[0m\n",
            "\u001b[0;32m/usr/local/lib/python3.6/dist-packages/pandas/core/indexing.py\u001b[0m in \u001b[0;36m_get_listlike_indexer\u001b[0;34m(self, key, axis, raise_missing)\u001b[0m\n\u001b[1;32m   1551\u001b[0m \u001b[0;34m\u001b[0m\u001b[0m\n\u001b[1;32m   1552\u001b[0m         self._validate_read_indexer(\n\u001b[0;32m-> 1553\u001b[0;31m             \u001b[0mkeyarr\u001b[0m\u001b[0;34m,\u001b[0m \u001b[0mindexer\u001b[0m\u001b[0;34m,\u001b[0m \u001b[0mo\u001b[0m\u001b[0;34m.\u001b[0m\u001b[0m_get_axis_number\u001b[0m\u001b[0;34m(\u001b[0m\u001b[0maxis\u001b[0m\u001b[0;34m)\u001b[0m\u001b[0;34m,\u001b[0m \u001b[0mraise_missing\u001b[0m\u001b[0;34m=\u001b[0m\u001b[0mraise_missing\u001b[0m\u001b[0;34m\u001b[0m\u001b[0;34m\u001b[0m\u001b[0m\n\u001b[0m\u001b[1;32m   1554\u001b[0m         )\n\u001b[1;32m   1555\u001b[0m         \u001b[0;32mreturn\u001b[0m \u001b[0mkeyarr\u001b[0m\u001b[0;34m,\u001b[0m \u001b[0mindexer\u001b[0m\u001b[0;34m\u001b[0m\u001b[0;34m\u001b[0m\u001b[0m\n",
            "\u001b[0;32m/usr/local/lib/python3.6/dist-packages/pandas/core/indexing.py\u001b[0m in \u001b[0;36m_validate_read_indexer\u001b[0;34m(self, key, indexer, axis, raise_missing)\u001b[0m\n\u001b[1;32m   1638\u001b[0m             \u001b[0;32mif\u001b[0m \u001b[0mmissing\u001b[0m \u001b[0;34m==\u001b[0m \u001b[0mlen\u001b[0m\u001b[0;34m(\u001b[0m\u001b[0mindexer\u001b[0m\u001b[0;34m)\u001b[0m\u001b[0;34m:\u001b[0m\u001b[0;34m\u001b[0m\u001b[0;34m\u001b[0m\u001b[0m\n\u001b[1;32m   1639\u001b[0m                 \u001b[0maxis_name\u001b[0m \u001b[0;34m=\u001b[0m \u001b[0mself\u001b[0m\u001b[0;34m.\u001b[0m\u001b[0mobj\u001b[0m\u001b[0;34m.\u001b[0m\u001b[0m_get_axis_name\u001b[0m\u001b[0;34m(\u001b[0m\u001b[0maxis\u001b[0m\u001b[0;34m)\u001b[0m\u001b[0;34m\u001b[0m\u001b[0;34m\u001b[0m\u001b[0m\n\u001b[0;32m-> 1640\u001b[0;31m                 \u001b[0;32mraise\u001b[0m \u001b[0mKeyError\u001b[0m\u001b[0;34m(\u001b[0m\u001b[0;34mf\"None of [{key}] are in the [{axis_name}]\"\u001b[0m\u001b[0;34m)\u001b[0m\u001b[0;34m\u001b[0m\u001b[0;34m\u001b[0m\u001b[0m\n\u001b[0m\u001b[1;32m   1641\u001b[0m \u001b[0;34m\u001b[0m\u001b[0m\n\u001b[1;32m   1642\u001b[0m             \u001b[0;31m# We (temporarily) allow for some missing keys with .loc, except in\u001b[0m\u001b[0;34m\u001b[0m\u001b[0;34m\u001b[0m\u001b[0;34m\u001b[0m\u001b[0m\n",
            "\u001b[0;31mKeyError\u001b[0m: \"None of [Index(['xm', 'ym'], dtype='object')] are in the [columns]\""
          ]
        }
      ]
    },
    {
      "cell_type": "markdown",
      "metadata": {
        "id": "a22tscreoi7g",
        "colab_type": "text"
      },
      "source": [
        "**As you can see for outliers, the cluster label is -1**"
      ]
    },
    {
      "cell_type": "code",
      "metadata": {
        "id": "J_X78RGzoi7h",
        "colab_type": "code",
        "colab": {
          "base_uri": "https://localhost:8080/",
          "height": 34
        },
        "outputId": "786d37dc-8586-4426-8120-56a3d8cf6246"
      },
      "source": [
        "set(labels)"
      ],
      "execution_count": null,
      "outputs": [
        {
          "output_type": "execute_result",
          "data": {
            "text/plain": [
              "{-1, 0, 1, 2}"
            ]
          },
          "metadata": {
            "tags": []
          },
          "execution_count": 46
        }
      ]
    },
    {
      "cell_type": "markdown",
      "metadata": {
        "id": "nMJ0xD01oi7j",
        "colab_type": "text"
      },
      "source": [
        "### 6- Visualization of clusters based on location\n",
        "Now, we can visualize the clusters using basemap:"
      ]
    },
    {
      "cell_type": "code",
      "metadata": {
        "id": "iOrT4cpyoi7k",
        "colab_type": "code",
        "colab": {}
      },
      "source": [
        "from mpl_toolkits.basemap import Basemap\n",
        "import matplotlib.pyplot as plt\n",
        "from pylab import rcParams\n",
        "%matplotlib inline\n",
        "rcParams['figure.figsize'] = (14,10)\n",
        "\n",
        "my_map = Basemap(projection='merc',\n",
        "            resolution = 'l', area_thresh = 1000.0,\n",
        "            llcrnrlon=llon, llcrnrlat=llat, #min longitude (llcrnrlon) and latitude (llcrnrlat)\n",
        "            urcrnrlon=ulon, urcrnrlat=ulat) #max longitude (urcrnrlon) and latitude (urcrnrlat)\n",
        "\n",
        "my_map.drawcoastlines()\n",
        "my_map.drawcountries()\n",
        "#my_map.drawmapboundary()\n",
        "my_map.fillcontinents(color = 'white', alpha = 0.3)\n",
        "my_map.shadedrelief()\n",
        "\n",
        "# To create a color map\n",
        "colors = plt.get_cmap('jet')(np.linspace(0.0, 1.0, clusterNum))\n",
        "\n",
        "\n",
        "\n",
        "#Visualization1\n",
        "for clust_number in set(labels):\n",
        "    c=(([0.4,0.4,0.4]) if clust_number == -1 else colors[np.int(clust_number)])\n",
        "    clust_set = pdf[pdf.Clus_Db == clust_number]                    \n",
        "    my_map.scatter(clust_set.xm, clust_set.ym, color =c,  marker='o', s= 20, alpha = 0.85)\n",
        "    if clust_number != -1:\n",
        "        cenx=np.mean(clust_set.xm) \n",
        "        ceny=np.mean(clust_set.ym) \n",
        "        plt.text(cenx,ceny,str(clust_number), fontsize=25, color='red',)\n",
        "        print (\"Cluster \"+str(clust_number)+', Avg Temp: '+ str(np.mean(clust_set.Tm)))"
      ],
      "execution_count": null,
      "outputs": []
    },
    {
      "cell_type": "markdown",
      "metadata": {
        "id": "7nkSRFSnoi7m",
        "colab_type": "text"
      },
      "source": [
        "### 7- Clustering of stations based on their location, mean, max, and min Temperature\n",
        "In this section we re-run DBSCAN, but this time on a 5-dimensional dataset:"
      ]
    },
    {
      "cell_type": "code",
      "metadata": {
        "scrolled": true,
        "id": "m4TozKJjoi7n",
        "colab_type": "code",
        "colab": {}
      },
      "source": [
        "from sklearn.cluster import DBSCAN\n",
        "import sklearn.utils\n",
        "from sklearn.preprocessing import StandardScaler\n",
        "sklearn.utils.check_random_state(1000)\n",
        "Clus_dataSet = pdf[['xm','ym','Tx','Tm','Tn']]\n",
        "Clus_dataSet = np.nan_to_num(Clus_dataSet)\n",
        "Clus_dataSet = StandardScaler().fit_transform(Clus_dataSet)\n",
        "\n",
        "# Compute DBSCAN\n",
        "db = DBSCAN(eps=0.3, min_samples=10).fit(Clus_dataSet)\n",
        "core_samples_mask = np.zeros_like(db.labels_, dtype=bool)\n",
        "core_samples_mask[db.core_sample_indices_] = True\n",
        "labels = db.labels_\n",
        "pdf[\"Clus_Db\"]=labels\n",
        "\n",
        "realClusterNum=len(set(labels)) - (1 if -1 in labels else 0)\n",
        "clusterNum = len(set(labels)) \n",
        "\n",
        "\n",
        "# A sample of clusters\n",
        "pdf[[\"Stn_Name\",\"Tx\",\"Tm\",\"Clus_Db\"]].head(5)"
      ],
      "execution_count": null,
      "outputs": []
    },
    {
      "cell_type": "markdown",
      "metadata": {
        "id": "hOoHyk3eoi7p",
        "colab_type": "text"
      },
      "source": [
        "### 8- Visualization of clusters based on location and Temperture\n"
      ]
    },
    {
      "cell_type": "code",
      "metadata": {
        "id": "Tr24Cg3_oi7q",
        "colab_type": "code",
        "colab": {}
      },
      "source": [
        "from mpl_toolkits.basemap import Basemap\n",
        "import matplotlib.pyplot as plt\n",
        "from pylab import rcParams\n",
        "%matplotlib inline\n",
        "rcParams['figure.figsize'] = (14,10)\n",
        "\n",
        "my_map = Basemap(projection='merc',\n",
        "            resolution = 'l', area_thresh = 1000.0,\n",
        "            llcrnrlon=llon, llcrnrlat=llat, #min longitude (llcrnrlon) and latitude (llcrnrlat)\n",
        "            urcrnrlon=ulon, urcrnrlat=ulat) #max longitude (urcrnrlon) and latitude (urcrnrlat)\n",
        "\n",
        "my_map.drawcoastlines()\n",
        "my_map.drawcountries()\n",
        "#my_map.drawmapboundary()\n",
        "my_map.fillcontinents(color = 'white', alpha = 0.3)\n",
        "my_map.shadedrelief()\n",
        "\n",
        "# To create a color map\n",
        "colors = plt.get_cmap('jet')(np.linspace(0.0, 1.0, clusterNum))\n",
        "\n",
        "\n",
        "\n",
        "#Visualization1\n",
        "for clust_number in set(labels):\n",
        "    c=(([0.4,0.4,0.4]) if clust_number == -1 else colors[np.int(clust_number)])\n",
        "    clust_set = pdf[pdf.Clus_Db == clust_number]                    \n",
        "    my_map.scatter(clust_set.xm, clust_set.ym, color =c,  marker='o', s= 20, alpha = 0.85)\n",
        "    if clust_number != -1:\n",
        "        cenx=np.mean(clust_set.xm) \n",
        "        ceny=np.mean(clust_set.ym) \n",
        "        plt.text(cenx,ceny,str(clust_number), fontsize=25, color='red',)\n",
        "        print (\"Cluster \"+str(clust_number)+', Avg Temp: '+ str(np.mean(clust_set.Tm)))"
      ],
      "execution_count": null,
      "outputs": []
    },
    {
      "cell_type": "markdown",
      "metadata": {
        "id": "lw9s6rjfoi7t",
        "colab_type": "text"
      },
      "source": [
        "## Want to learn more?\n",
        "\n",
        "IBM SPSS Modeler is a comprehensive analytics platform that has many machine learning algorithms. It has been designed to bring predictive intelligence to decisions made by individuals, by groups, by systems – by your enterprise as a whole. A free trial is available through this course, available here: [SPSS Modeler](http://cocl.us/ML0101EN-SPSSModeler).\n",
        "\n",
        "Also, you can use Watson Studio to run these notebooks faster with bigger datasets. Watson Studio is IBM's leading cloud solution for data scientists, built by data scientists. With Jupyter notebooks, RStudio, Apache Spark and popular libraries pre-packaged in the cloud, Watson Studio enables data scientists to collaborate on their projects without having to install anything. Join the fast-growing community of Watson Studio users today with a free account at [Watson Studio](https://cocl.us/ML0101EN_DSX)\n",
        "\n",
        "### Thanks for completing this lesson!\n",
        "\n",
        "Notebook created by: <a href = \"https://ca.linkedin.com/in/saeedaghabozorgi\">Saeed Aghabozorgi</a>\n",
        "\n",
        "<hr>\n",
        "Copyright &copy; 2018 [Cognitive Class](https://cocl.us/DX0108EN_CC). This notebook and its source code are released under the terms of the [MIT License](https://bigdatauniversity.com/mit-license/).​"
      ]
    }
  ]
}